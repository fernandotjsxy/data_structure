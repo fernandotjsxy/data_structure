{
 "cells": [
  {
   "cell_type": "code",
   "execution_count": 1,
   "metadata": {},
   "outputs": [],
   "source": [
    "from collections import deque"
   ]
  },
  {
   "cell_type": "code",
   "execution_count": 3,
   "metadata": {},
   "outputs": [],
   "source": [
    "class DQueue:\n",
    "    def __init__(self, *element) -> None:\n",
    "        self._element = deque(element)\n",
    "\n",
    "    def is_empty(self) -> bool:\n",
    "        return True if not self._element else False\n",
    "\n",
    "    def enqueue(self, elem: str):\n",
    "        self._element.append(elem)\n",
    "\n",
    "    def deque(self):\n",
    "        if self.is_empty():\n",
    "            return \"There is no element. No need to pop\"\n",
    "        self._element.popleft()\n",
    "\n",
    "    def __str__(self) -> str:\n",
    "        if self.is_empty():\n",
    "            return \"There is no element\"\n",
    "        return \" \".join([str(x) for x in self._element])        \n",
    "\n"
   ]
  },
  {
   "cell_type": "code",
   "execution_count": 9,
   "metadata": {},
   "outputs": [
    {
     "name": "stdout",
     "output_type": "stream",
     "text": [
      "There is no element\n",
      "2 3 4\n",
      "3 4\n"
     ]
    }
   ],
   "source": [
    "q = DQueue()\n",
    "print(q)\n",
    "q.enqueue(2)\n",
    "q.enqueue(3)\n",
    "q.enqueue(4)\n",
    "print(q)\n",
    "\n",
    "q.deque()\n",
    "print(q)"
   ]
  },
  {
   "cell_type": "code",
   "execution_count": null,
   "metadata": {},
   "outputs": [],
   "source": []
  }
 ],
 "metadata": {
  "kernelspec": {
   "display_name": "machine_learning",
   "language": "python",
   "name": "python3"
  },
  "language_info": {
   "codemirror_mode": {
    "name": "ipython",
    "version": 3
   },
   "file_extension": ".py",
   "mimetype": "text/x-python",
   "name": "python",
   "nbconvert_exporter": "python",
   "pygments_lexer": "ipython3",
   "version": "3.9.7"
  },
  "orig_nbformat": 4,
  "vscode": {
   "interpreter": {
    "hash": "9e9a157a8c077c2a3bb32b558e2db8ef270d55bb9b851603f5f05cbf72c86fcc"
   }
  }
 },
 "nbformat": 4,
 "nbformat_minor": 2
}
