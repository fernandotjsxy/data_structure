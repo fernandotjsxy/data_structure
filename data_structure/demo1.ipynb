{
 "cells": [
  {
   "cell_type": "code",
   "execution_count": 51,
   "metadata": {},
   "outputs": [],
   "source": [
    "from typing import Type, Optional, List, Any"
   ]
  },
  {
   "cell_type": "code",
   "execution_count": 45,
   "metadata": {},
   "outputs": [],
   "source": [
    "class TreeNode:\n",
    "    def __init__(self, data: str, children: List = None) -> None:\n",
    "        self.data = data\n",
    "        self.children = children\n",
    "\n",
    "    def __str__(self, level: int = 0) -> str:\n",
    "        ret = \" \" * level + self.data + \"\\n\"\n",
    "        for child in self.children:\n",
    "            ret += child.__str__(level + 1)\n",
    "        return ret\n",
    "\n",
    "    def add_child(self, tree_node: TreeNode):\n",
    "        self.children.append(tree_node)\n"
   ]
  },
  {
   "cell_type": "code",
   "execution_count": 47,
   "metadata": {},
   "outputs": [
    {
     "name": "stdout",
     "output_type": "stream",
     "text": [
      "Drinks\n",
      "\n",
      "Drinks\n",
      " Cold_Drinks\n",
      "  Coffee\n",
      " Hot_Drinks\n",
      "  Sprit\n",
      "\n"
     ]
    }
   ],
   "source": [
    "tree = TreeNode(\"Drinks\", [])\n",
    "print(tree)\n",
    "\n",
    "cold = TreeNode(\"Cold_Drinks\", [])\n",
    "coffee = TreeNode(\"Coffee\", [])\n",
    "cold.add_child(coffee)\n",
    "\n",
    "hot = TreeNode(\"Hot_Drinks\", [])\n",
    "sprit = TreeNode(\"Sprit\", [])\n",
    "hot.add_child(sprit)\n",
    "\n",
    "tree.add_child(cold)\n",
    "tree.add_child(hot)\n",
    "\n",
    "print(tree)\n"
   ]
  },
  {
   "cell_type": "code",
   "execution_count": 85,
   "metadata": {},
   "outputs": [
    {
     "name": "stdout",
     "output_type": "stream",
     "text": [
      "Drinks\n",
      "Hot\n",
      "Cold\n",
      "----------------------------------------------------------------------------------------------------\n",
      "Hot\n",
      "Drinks\n",
      "Cold\n",
      "----------------------------------------------------------------------------------------------------\n",
      "Hot\n",
      "Cold\n",
      "Drinks\n"
     ]
    }
   ],
   "source": [
    "class BinaryTree:\n",
    "    left_node: BinaryTree\n",
    "    left_node: BinaryTree\n",
    "\n",
    "    def __init__(self, data: str) -> None:\n",
    "        self.data = data\n",
    "        self.left_node = None\n",
    "        self.right_node = None\n",
    "\n",
    "def preorder_traversal(root_node: BinaryTree):\n",
    "    if not root_node:\n",
    "       \n",
    "        return\n",
    "    print(root_node.data)\n",
    "    preorder_traversal(root_node.left_node)\n",
    "    preorder_traversal(root_node.right_node)\n",
    "\n",
    "def inoder_traversal(root_node: BinaryTree):\n",
    "    if not root_node:\n",
    "        return\n",
    "    inoder_traversal(root_node.left_node)\n",
    "    print(root_node.data)\n",
    "    inoder_traversal(root_node.right_node)\n",
    "\n",
    "def postorder_traversal(root_node: BinaryTree):\n",
    "    if not root_node:\n",
    "        return\n",
    "    postorder_traversal(root_node.left_node)\n",
    "    postorder_traversal(root_node.right_node)\n",
    "    print(root_node.data)\n",
    "\n",
    "binary_tree = BinaryTree(\"Drinks\")\n",
    "left_child = BinaryTree(\"Hot\")\n",
    "right_child = BinaryTree(\"Cold\")\n",
    "binary_tree.left_node = left_child\n",
    "binary_tree.right_node = right_child\n",
    "\n",
    "preorder_traversal(binary_tree)\n",
    "print(\"-\" * 100 + \"\\r\")\n",
    "inoder_traversal(binary_tree)\n",
    "print(\"-\" * 100 + \"\\r\")\n",
    "postorder_traversal(binary_tree)\n",
    "\n"
   ]
  },
  {
   "cell_type": "code",
   "execution_count": null,
   "metadata": {},
   "outputs": [],
   "source": []
  },
  {
   "cell_type": "code",
   "execution_count": null,
   "metadata": {},
   "outputs": [],
   "source": []
  }
 ],
 "metadata": {
  "kernelspec": {
   "display_name": "Python 3.8.5 ('machine_learning')",
   "language": "python",
   "name": "python3"
  },
  "language_info": {
   "codemirror_mode": {
    "name": "ipython",
    "version": 3
   },
   "file_extension": ".py",
   "mimetype": "text/x-python",
   "name": "python",
   "nbconvert_exporter": "python",
   "pygments_lexer": "ipython3",
   "version": "3.8.5"
  },
  "orig_nbformat": 4,
  "vscode": {
   "interpreter": {
    "hash": "f458e5b000089f8b45059e8608ec687ac24a61092cb5fe31d65bd1c719145f7b"
   }
  }
 },
 "nbformat": 4,
 "nbformat_minor": 2
}
