{
 "cells": [
  {
   "cell_type": "code",
   "execution_count": 51,
   "metadata": {},
   "outputs": [],
   "source": [
    "from typing import Type, Optional, List, Any"
   ]
  },
  {
   "cell_type": "code",
   "execution_count": 45,
   "metadata": {},
   "outputs": [],
   "source": [
    "class TreeNode:\n",
    "    def __init__(self, data: str, children: List = None) -> None:\n",
    "        self.data = data\n",
    "        self.children = children\n",
    "\n",
    "    def __str__(self, level: int = 0) -> str:\n",
    "        ret = \" \" * level + self.data + \"\\n\"\n",
    "        for child in self.children:\n",
    "            ret += child.__str__(level + 1)\n",
    "        return ret\n",
    "\n",
    "    def add_child(self, tree_node: TreeNode):\n",
    "        self.children.append(tree_node)\n"
   ]
  },
  {
   "cell_type": "code",
   "execution_count": 47,
   "metadata": {},
   "outputs": [
    {
     "name": "stdout",
     "output_type": "stream",
     "text": [
      "Drinks\n",
      "\n",
      "Drinks\n",
      " Cold_Drinks\n",
      "  Coffee\n",
      " Hot_Drinks\n",
      "  Sprit\n",
      "\n"
     ]
    }
   ],
   "source": [
    "tree = TreeNode(\"Drinks\", [])\n",
    "print(tree)\n",
    "\n",
    "cold = TreeNode(\"Cold_Drinks\", [])\n",
    "coffee = TreeNode(\"Coffee\", [])\n",
    "cold.add_child(coffee)\n",
    "\n",
    "hot = TreeNode(\"Hot_Drinks\", [])\n",
    "sprit = TreeNode(\"Sprit\", [])\n",
    "hot.add_child(sprit)\n",
    "\n",
    "tree.add_child(cold)\n",
    "tree.add_child(hot)\n",
    "\n",
    "print(tree)\n"
   ]
  },
  {
   "cell_type": "code",
   "execution_count": 89,
   "metadata": {},
   "outputs": [
    {
     "name": "stdout",
     "output_type": "stream",
     "text": [
      "Drinks\n",
      "Hot\n",
      "Coffee\n",
      "Hot_Coffee\n",
      "Cold\n",
      "Coke\n",
      "Fanta\n",
      "----------------------------------------------------------------------------------------------------\n",
      "Coffee\n",
      "Hot\n",
      "Hot_Coffee\n",
      "Drinks\n",
      "Coke\n",
      "Cold\n",
      "Fanta\n",
      "----------------------------------------------------------------------------------------------------\n",
      "Coffee\n",
      "Hot_Coffee\n",
      "Hot\n",
      "Coke\n",
      "Fanta\n",
      "Cold\n",
      "Drinks\n"
     ]
    }
   ],
   "source": [
    "class BinaryTree:\n",
    "    left_node: BinaryTree\n",
    "    left_node: BinaryTree\n",
    "\n",
    "\n",
    "    def __init__(self, data: str) -> None:\n",
    "        self.data = data\n",
    "        self.left_node = None\n",
    "        self.right_node = None\n",
    "\n",
    "\n",
    "def preorder_traversal(root_node: BinaryTree):\n",
    "    if not root_node:\n",
    "        return\n",
    "    print(root_node.data)\n",
    "    preorder_traversal(root_node.left_node)\n",
    "    preorder_traversal(root_node.right_node)\n",
    "\n",
    "def inoder_traversal(root_node: BinaryTree):\n",
    "    if not root_node:\n",
    "        return\n",
    "    inoder_traversal(root_node.left_node)\n",
    "    print(root_node.data)\n",
    "    inoder_traversal(root_node.right_node)\n",
    "\n",
    "def postorder_traversal(root_node: BinaryTree):\n",
    "    if not root_node:\n",
    "        return\n",
    "    postorder_traversal(root_node.left_node)\n",
    "    postorder_traversal(root_node.right_node)\n",
    "    print(root_node.data)\n",
    "\n",
    "binary_tree, left_child, right_child = BinaryTree(\"Drinks\"), BinaryTree(\"Hot\"), BinaryTree(\"Cold\")\n",
    "\n",
    "left_child_left_level1, left_child_right_level1 = BinaryTree(\"Coffee\"), BinaryTree(\"Hot_Coffee\")\n",
    "left_child.left_node, left_child.right_node = left_child_left_level1, left_child_right_level1\n",
    "\n",
    "right_child_left_level1, right_child_right_level1 = BinaryTree(\"Coke\"), BinaryTree(\"Fanta\")\n",
    "right_child.left_node, right_child.right_node = right_child_left_level1, right_child_right_level1 \n",
    "\n",
    "binary_tree.left_node = left_child\n",
    "binary_tree.right_node = right_child\n",
    "\n",
    "preorder_traversal(binary_tree)\n",
    "print(\"-\" * 100 + \"\\r\")\n",
    "inoder_traversal(binary_tree)\n",
    "print(\"-\" * 100 + \"\\r\")\n",
    "postorder_traversal(binary_tree)\n",
    "\n"
   ]
  },
  {
   "cell_type": "code",
   "execution_count": 134,
   "metadata": {},
   "outputs": [],
   "source": [
    "class Node:\n",
    "    def __init__(self, value = None) -> None:\n",
    "        self.value = value\n",
    "        self.next = None\n",
    "\n",
    "    def __str__(self) -> str:\n",
    "        return str(self.value)\n",
    "\n",
    "class LinkedList:\n",
    "    def __init__(self) -> None:\n",
    "        self.head = None\n",
    "        self.tail = None\n",
    "\n",
    "class Queue:\n",
    "    def __init__(self) -> None:\n",
    "        self.linked_list = LinkedList()\n",
    "    \n",
    "    def __str__(self) -> str:\n",
    "        values = \"no value\"\n",
    "        return str(self.linked_list.__class__)\n",
    "\n",
    "    def enqueue(self, value):\n",
    "        new_node = Node(value)\n",
    "        if not self.linked_list.head:\n",
    "            self.linked_list.head = new_node\n",
    "            self.linked_list.tail = new_node\n",
    "        else:\n",
    "            self.linked_list.tail.next = new_node\n",
    "            self.linked_list.tail = new_node\n",
    "    \n",
    "    def is_empty(self):\n",
    "        if not self.linked_list.head:\n",
    "            return True\n",
    "        return False\n",
    "    \n",
    "    def dequeue(self):\n",
    "        if self.is_empty():\n",
    "            return \"There is not any node in the queue\"\n",
    "        temp_node = self.linked_list.head\n",
    "        if self.linked_list.head == self.linked_list.tail:\n",
    "            self.linked_list.head = None\n",
    "            self.linked_list.tail = None\n",
    "        else:\n",
    "            self.linked_list.head = self.linked_list.head.next\n",
    "        return temp_node\n",
    "\n",
    "    def peek(self):\n",
    "        if self.is_empty():\n",
    "            return \"There is not any node in the queue\"\n",
    "        return self.linked_list.head\n",
    "\n",
    "    def delete(self):\n",
    "        self.linked_list.head = None\n",
    "        self.linked_list.tail = None "
   ]
  },
  {
   "cell_type": "code",
   "execution_count": 135,
   "metadata": {},
   "outputs": [],
   "source": [
    "def level_order_traversal(root_node: BinaryTree):\n",
    "    if not root_node:\n",
    "        return \n",
    "    queue = Queue()\n",
    "\n",
    "    queue.enqueue(binary_tree)\n",
    "    while not (queue.is_empty()):\n",
    "        root = queue.dequeue()\n",
    "        print(root.value.data)\n",
    "        if root.value.left_node:\n",
    "            queue.enqueue(root.value.left_node)\n",
    "        \n",
    "        if root.value.right_node:\n",
    "            queue.enqueue(root.value.right_node)\n",
    "\n",
    "def search_binary_tree(root_node: BinaryTree, node_value):\n",
    "    if not root_node:\n",
    "        return \"The binary tree does not exist\"\n",
    "    queue = Queue()\n",
    "    queue.enqueue(root_node)\n",
    "    while not queue.is_empty():\n",
    "        root = queue.dequeue()\n",
    "        if root.value.data == node_value:\n",
    "            return \"Succss\"\n",
    "        \n",
    "        if root.value.left_node:\n",
    "            queue.enqueue(root.value.left_node)\n",
    "\n",
    "        if root.value.right_node:\n",
    "            queue.enqueue(root.value.right_node)\n",
    "    return \"Not Found\"\n",
    "\n",
    "        \n",
    "\n"
   ]
  },
  {
   "cell_type": "code",
   "execution_count": 136,
   "metadata": {},
   "outputs": [
    {
     "name": "stdout",
     "output_type": "stream",
     "text": [
      "Drinks\n",
      "Hot\n",
      "Cold\n",
      "Coffee\n",
      "Hot_Coffee\n",
      "Coke\n",
      "Fanta\n"
     ]
    }
   ],
   "source": [
    "level_order_traversal(binary_tree)"
   ]
  },
  {
   "cell_type": "code",
   "execution_count": 139,
   "metadata": {},
   "outputs": [
    {
     "data": {
      "text/plain": [
       "'Succss'"
      ]
     },
     "execution_count": 139,
     "metadata": {},
     "output_type": "execute_result"
    }
   ],
   "source": [
    "search_binary_tree(binary_tree, \"Cold\")"
   ]
  },
  {
   "cell_type": "code",
   "execution_count": null,
   "metadata": {},
   "outputs": [],
   "source": []
  }
 ],
 "metadata": {
  "kernelspec": {
   "display_name": "Python 3.8.5 ('machine_learning')",
   "language": "python",
   "name": "python3"
  },
  "language_info": {
   "codemirror_mode": {
    "name": "ipython",
    "version": 3
   },
   "file_extension": ".py",
   "mimetype": "text/x-python",
   "name": "python",
   "nbconvert_exporter": "python",
   "pygments_lexer": "ipython3",
   "version": "3.8.5"
  },
  "orig_nbformat": 4,
  "vscode": {
   "interpreter": {
    "hash": "f458e5b000089f8b45059e8608ec687ac24a61092cb5fe31d65bd1c719145f7b"
   }
  }
 },
 "nbformat": 4,
 "nbformat_minor": 2
}
